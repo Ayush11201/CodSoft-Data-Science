{
 "cells": [
  {
   "cell_type": "markdown",
   "id": "4836f069",
   "metadata": {},
   "source": [
    "## CREDIT CARD FRAUD DETECTION "
   ]
  },
  {
   "cell_type": "markdown",
   "id": "974d93d7",
   "metadata": {},
   "source": [
    "#### Credit card fraud is the act of using another person’s credit card to make purchases or request cash advances without the cardholder’s knowledge or consent.\n",
    "#### Credit card fraud detection is the collective term for the policies, tools, methodologies, and practices that credit card companies and financial institutions take to combat identity fraud and stop fraudulent transactions.\n",
    "#### In recent years, as the amount of data has exploded and the number of payment card transactions has skyrocketed, credit fraud detection has become largely digitized and automated. Most modern solutions leverage artificial intelligence (AI) and machine learning (ML) to manage data analysis, predictive modeling, decision-making, fraud alerts and remediation activity that occur when individual instances of credit card fraud are detected."
   ]
  },
  {
   "cell_type": "markdown",
   "id": "bf64ce50",
   "metadata": {},
   "source": [
    "### Import Libraries"
   ]
  },
  {
   "cell_type": "code",
   "execution_count": 2,
   "id": "1171302d",
   "metadata": {},
   "outputs": [],
   "source": [
    "import numpy as np\n",
    "import pandas as pd\n",
    "import matplotlib.pyplot as plt\n",
    "import seaborn as sns"
   ]
  },
  {
   "cell_type": "markdown",
   "id": "d19148f9",
   "metadata": {},
   "source": [
    "### Read Dataset"
   ]
  },
  {
   "cell_type": "code",
   "execution_count": 6,
   "id": "d3cfa80c",
   "metadata": {},
   "outputs": [],
   "source": [
    "df = pd.read_csv('creditcard.csv')"
   ]
  },
  {
   "cell_type": "code",
   "execution_count": 7,
   "id": "e1233aef",
   "metadata": {},
   "outputs": [
    {
     "data": {
      "text/html": [
       "<div>\n",
       "<style scoped>\n",
       "    .dataframe tbody tr th:only-of-type {\n",
       "        vertical-align: middle;\n",
       "    }\n",
       "\n",
       "    .dataframe tbody tr th {\n",
       "        vertical-align: top;\n",
       "    }\n",
       "\n",
       "    .dataframe thead th {\n",
       "        text-align: right;\n",
       "    }\n",
       "</style>\n",
       "<table border=\"1\" class=\"dataframe\">\n",
       "  <thead>\n",
       "    <tr style=\"text-align: right;\">\n",
       "      <th></th>\n",
       "      <th>Time</th>\n",
       "      <th>V1</th>\n",
       "      <th>V2</th>\n",
       "      <th>V3</th>\n",
       "      <th>V4</th>\n",
       "      <th>V5</th>\n",
       "      <th>V6</th>\n",
       "      <th>V7</th>\n",
       "      <th>V8</th>\n",
       "      <th>V9</th>\n",
       "      <th>...</th>\n",
       "      <th>V21</th>\n",
       "      <th>V22</th>\n",
       "      <th>V23</th>\n",
       "      <th>V24</th>\n",
       "      <th>V25</th>\n",
       "      <th>V26</th>\n",
       "      <th>V27</th>\n",
       "      <th>V28</th>\n",
       "      <th>Amount</th>\n",
       "      <th>Class</th>\n",
       "    </tr>\n",
       "  </thead>\n",
       "  <tbody>\n",
       "    <tr>\n",
       "      <th>0</th>\n",
       "      <td>0.0</td>\n",
       "      <td>-1.359807</td>\n",
       "      <td>-0.072781</td>\n",
       "      <td>2.536347</td>\n",
       "      <td>1.378155</td>\n",
       "      <td>-0.338321</td>\n",
       "      <td>0.462388</td>\n",
       "      <td>0.239599</td>\n",
       "      <td>0.098698</td>\n",
       "      <td>0.363787</td>\n",
       "      <td>...</td>\n",
       "      <td>-0.018307</td>\n",
       "      <td>0.277838</td>\n",
       "      <td>-0.110474</td>\n",
       "      <td>0.066928</td>\n",
       "      <td>0.128539</td>\n",
       "      <td>-0.189115</td>\n",
       "      <td>0.133558</td>\n",
       "      <td>-0.021053</td>\n",
       "      <td>149.62</td>\n",
       "      <td>0</td>\n",
       "    </tr>\n",
       "    <tr>\n",
       "      <th>1</th>\n",
       "      <td>0.0</td>\n",
       "      <td>1.191857</td>\n",
       "      <td>0.266151</td>\n",
       "      <td>0.166480</td>\n",
       "      <td>0.448154</td>\n",
       "      <td>0.060018</td>\n",
       "      <td>-0.082361</td>\n",
       "      <td>-0.078803</td>\n",
       "      <td>0.085102</td>\n",
       "      <td>-0.255425</td>\n",
       "      <td>...</td>\n",
       "      <td>-0.225775</td>\n",
       "      <td>-0.638672</td>\n",
       "      <td>0.101288</td>\n",
       "      <td>-0.339846</td>\n",
       "      <td>0.167170</td>\n",
       "      <td>0.125895</td>\n",
       "      <td>-0.008983</td>\n",
       "      <td>0.014724</td>\n",
       "      <td>2.69</td>\n",
       "      <td>0</td>\n",
       "    </tr>\n",
       "    <tr>\n",
       "      <th>2</th>\n",
       "      <td>1.0</td>\n",
       "      <td>-1.358354</td>\n",
       "      <td>-1.340163</td>\n",
       "      <td>1.773209</td>\n",
       "      <td>0.379780</td>\n",
       "      <td>-0.503198</td>\n",
       "      <td>1.800499</td>\n",
       "      <td>0.791461</td>\n",
       "      <td>0.247676</td>\n",
       "      <td>-1.514654</td>\n",
       "      <td>...</td>\n",
       "      <td>0.247998</td>\n",
       "      <td>0.771679</td>\n",
       "      <td>0.909412</td>\n",
       "      <td>-0.689281</td>\n",
       "      <td>-0.327642</td>\n",
       "      <td>-0.139097</td>\n",
       "      <td>-0.055353</td>\n",
       "      <td>-0.059752</td>\n",
       "      <td>378.66</td>\n",
       "      <td>0</td>\n",
       "    </tr>\n",
       "    <tr>\n",
       "      <th>3</th>\n",
       "      <td>1.0</td>\n",
       "      <td>-0.966272</td>\n",
       "      <td>-0.185226</td>\n",
       "      <td>1.792993</td>\n",
       "      <td>-0.863291</td>\n",
       "      <td>-0.010309</td>\n",
       "      <td>1.247203</td>\n",
       "      <td>0.237609</td>\n",
       "      <td>0.377436</td>\n",
       "      <td>-1.387024</td>\n",
       "      <td>...</td>\n",
       "      <td>-0.108300</td>\n",
       "      <td>0.005274</td>\n",
       "      <td>-0.190321</td>\n",
       "      <td>-1.175575</td>\n",
       "      <td>0.647376</td>\n",
       "      <td>-0.221929</td>\n",
       "      <td>0.062723</td>\n",
       "      <td>0.061458</td>\n",
       "      <td>123.50</td>\n",
       "      <td>0</td>\n",
       "    </tr>\n",
       "    <tr>\n",
       "      <th>4</th>\n",
       "      <td>2.0</td>\n",
       "      <td>-1.158233</td>\n",
       "      <td>0.877737</td>\n",
       "      <td>1.548718</td>\n",
       "      <td>0.403034</td>\n",
       "      <td>-0.407193</td>\n",
       "      <td>0.095921</td>\n",
       "      <td>0.592941</td>\n",
       "      <td>-0.270533</td>\n",
       "      <td>0.817739</td>\n",
       "      <td>...</td>\n",
       "      <td>-0.009431</td>\n",
       "      <td>0.798278</td>\n",
       "      <td>-0.137458</td>\n",
       "      <td>0.141267</td>\n",
       "      <td>-0.206010</td>\n",
       "      <td>0.502292</td>\n",
       "      <td>0.219422</td>\n",
       "      <td>0.215153</td>\n",
       "      <td>69.99</td>\n",
       "      <td>0</td>\n",
       "    </tr>\n",
       "  </tbody>\n",
       "</table>\n",
       "<p>5 rows × 31 columns</p>\n",
       "</div>"
      ],
      "text/plain": [
       "   Time        V1        V2        V3        V4        V5        V6        V7  \\\n",
       "0   0.0 -1.359807 -0.072781  2.536347  1.378155 -0.338321  0.462388  0.239599   \n",
       "1   0.0  1.191857  0.266151  0.166480  0.448154  0.060018 -0.082361 -0.078803   \n",
       "2   1.0 -1.358354 -1.340163  1.773209  0.379780 -0.503198  1.800499  0.791461   \n",
       "3   1.0 -0.966272 -0.185226  1.792993 -0.863291 -0.010309  1.247203  0.237609   \n",
       "4   2.0 -1.158233  0.877737  1.548718  0.403034 -0.407193  0.095921  0.592941   \n",
       "\n",
       "         V8        V9  ...       V21       V22       V23       V24       V25  \\\n",
       "0  0.098698  0.363787  ... -0.018307  0.277838 -0.110474  0.066928  0.128539   \n",
       "1  0.085102 -0.255425  ... -0.225775 -0.638672  0.101288 -0.339846  0.167170   \n",
       "2  0.247676 -1.514654  ...  0.247998  0.771679  0.909412 -0.689281 -0.327642   \n",
       "3  0.377436 -1.387024  ... -0.108300  0.005274 -0.190321 -1.175575  0.647376   \n",
       "4 -0.270533  0.817739  ... -0.009431  0.798278 -0.137458  0.141267 -0.206010   \n",
       "\n",
       "        V26       V27       V28  Amount  Class  \n",
       "0 -0.189115  0.133558 -0.021053  149.62      0  \n",
       "1  0.125895 -0.008983  0.014724    2.69      0  \n",
       "2 -0.139097 -0.055353 -0.059752  378.66      0  \n",
       "3 -0.221929  0.062723  0.061458  123.50      0  \n",
       "4  0.502292  0.219422  0.215153   69.99      0  \n",
       "\n",
       "[5 rows x 31 columns]"
      ]
     },
     "execution_count": 7,
     "metadata": {},
     "output_type": "execute_result"
    }
   ],
   "source": [
    "df.head()"
   ]
  },
  {
   "cell_type": "code",
   "execution_count": 8,
   "id": "44ad62be",
   "metadata": {},
   "outputs": [
    {
     "data": {
      "text/plain": [
       "(284807, 31)"
      ]
     },
     "execution_count": 8,
     "metadata": {},
     "output_type": "execute_result"
    }
   ],
   "source": [
    "df.shape   # Rows - 283726 , columns = 31"
   ]
  },
  {
   "cell_type": "code",
   "execution_count": 9,
   "id": "910de55e",
   "metadata": {},
   "outputs": [
    {
     "name": "stdout",
     "output_type": "stream",
     "text": [
      "<class 'pandas.core.frame.DataFrame'>\n",
      "RangeIndex: 284807 entries, 0 to 284806\n",
      "Data columns (total 31 columns):\n",
      " #   Column  Non-Null Count   Dtype  \n",
      "---  ------  --------------   -----  \n",
      " 0   Time    284807 non-null  float64\n",
      " 1   V1      284807 non-null  float64\n",
      " 2   V2      284807 non-null  float64\n",
      " 3   V3      284807 non-null  float64\n",
      " 4   V4      284807 non-null  float64\n",
      " 5   V5      284807 non-null  float64\n",
      " 6   V6      284807 non-null  float64\n",
      " 7   V7      284807 non-null  float64\n",
      " 8   V8      284807 non-null  float64\n",
      " 9   V9      284807 non-null  float64\n",
      " 10  V10     284807 non-null  float64\n",
      " 11  V11     284807 non-null  float64\n",
      " 12  V12     284807 non-null  float64\n",
      " 13  V13     284807 non-null  float64\n",
      " 14  V14     284807 non-null  float64\n",
      " 15  V15     284807 non-null  float64\n",
      " 16  V16     284807 non-null  float64\n",
      " 17  V17     284807 non-null  float64\n",
      " 18  V18     284807 non-null  float64\n",
      " 19  V19     284807 non-null  float64\n",
      " 20  V20     284807 non-null  float64\n",
      " 21  V21     284807 non-null  float64\n",
      " 22  V22     284807 non-null  float64\n",
      " 23  V23     284807 non-null  float64\n",
      " 24  V24     284807 non-null  float64\n",
      " 25  V25     284807 non-null  float64\n",
      " 26  V26     284807 non-null  float64\n",
      " 27  V27     284807 non-null  float64\n",
      " 28  V28     284807 non-null  float64\n",
      " 29  Amount  284807 non-null  float64\n",
      " 30  Class   284807 non-null  int64  \n",
      "dtypes: float64(30), int64(1)\n",
      "memory usage: 67.4 MB\n"
     ]
    }
   ],
   "source": [
    "df.info()    # exploring rows and columns"
   ]
  },
  {
   "cell_type": "code",
   "execution_count": 10,
   "id": "c87758ed",
   "metadata": {},
   "outputs": [],
   "source": [
    "x = df.iloc[:,1:30].values   # assigned the values of columns 1 to 29 in x \n",
    "y = df.iloc[:,30].values     # assigned the values of column 30 to y"
   ]
  },
  {
   "cell_type": "code",
   "execution_count": 11,
   "id": "07029c47",
   "metadata": {},
   "outputs": [
    {
     "name": "stdout",
     "output_type": "stream",
     "text": [
      "Input Range: (284807, 29)\n",
      "Output Range: (284807,)\n"
     ]
    }
   ],
   "source": [
    "print('Input Range:',x.shape)\n",
    "print('Output Range:',y.shape)"
   ]
  },
  {
   "cell_type": "code",
   "execution_count": 12,
   "id": "1464ee05",
   "metadata": {},
   "outputs": [],
   "source": [
    "df1 = df.copy()     # creating copy "
   ]
  },
  {
   "cell_type": "code",
   "execution_count": 13,
   "id": "87dbcd69",
   "metadata": {},
   "outputs": [
    {
     "data": {
      "text/plain": [
       "1081"
      ]
     },
     "execution_count": 13,
     "metadata": {},
     "output_type": "execute_result"
    }
   ],
   "source": [
    "df.duplicated().sum()   # checking duplicates"
   ]
  },
  {
   "cell_type": "code",
   "execution_count": 15,
   "id": "a83f5802",
   "metadata": {},
   "outputs": [],
   "source": [
    "df.drop_duplicates(inplace=True)   # droping the duplicates"
   ]
  },
  {
   "cell_type": "code",
   "execution_count": 16,
   "id": "84f33afc",
   "metadata": {},
   "outputs": [
    {
     "data": {
      "text/plain": [
       "Time      0\n",
       "V1        0\n",
       "V2        0\n",
       "V3        0\n",
       "V4        0\n",
       "V5        0\n",
       "V6        0\n",
       "V7        0\n",
       "V8        0\n",
       "V9        0\n",
       "V10       0\n",
       "V11       0\n",
       "V12       0\n",
       "V13       0\n",
       "V14       0\n",
       "V15       0\n",
       "V16       0\n",
       "V17       0\n",
       "V18       0\n",
       "V19       0\n",
       "V20       0\n",
       "V21       0\n",
       "V22       0\n",
       "V23       0\n",
       "V24       0\n",
       "V25       0\n",
       "V26       0\n",
       "V27       0\n",
       "V28       0\n",
       "Amount    0\n",
       "Class     0\n",
       "dtype: int64"
      ]
     },
     "execution_count": 16,
     "metadata": {},
     "output_type": "execute_result"
    }
   ],
   "source": [
    "df.isnull().sum()   # checking null values"
   ]
  },
  {
   "cell_type": "code",
   "execution_count": 17,
   "id": "af6188c4",
   "metadata": {},
   "outputs": [
    {
     "data": {
      "text/plain": [
       "0    283253\n",
       "1       473\n",
       "Name: Class, dtype: int64"
      ]
     },
     "execution_count": 17,
     "metadata": {},
     "output_type": "execute_result"
    }
   ],
   "source": [
    "df.Class.value_counts()   # checking the value count of class"
   ]
  },
  {
   "cell_type": "markdown",
   "id": "052fb1e1",
   "metadata": {},
   "source": [
    "#### Inference"
   ]
  },
  {
   "cell_type": "markdown",
   "id": "96d454c9",
   "metadata": {},
   "source": [
    "#### 1. It is highly imbalanced data"
   ]
  },
  {
   "cell_type": "code",
   "execution_count": 18,
   "id": "e0c7998b",
   "metadata": {},
   "outputs": [
    {
     "data": {
      "image/png": "[encoded data removed]",
      "text/plain": [
       "<Figure size 640x480 with 1 Axes>"
      ]
     },
     "metadata": {},
     "output_type": "display_data"
    }
   ],
   "source": [
    "sns.countplot(x=df['Class'],hue=df['Class'])\n",
    "plt.title('class Distribution of Transaction ')   \n",
    "plt.show()"
   ]
  },
  {
   "cell_type": "code",
   "execution_count": null,
   "id": "0531e454",
   "metadata": {},
   "outputs": [],
   "source": [
    "# normal transaction - 0\n",
    "# fraudulent transaction - 1"
   ]
  },
  {
   "cell_type": "markdown",
   "id": "7de26c47",
   "metadata": {},
   "source": [
    "## Seprate data for analysis"
   ]
  },
  {
   "cell_type": "code",
   "execution_count": 19,
   "id": "2c941d0f",
   "metadata": {},
   "outputs": [],
   "source": [
    "legit_transaction = df[df.Class==0]\n",
    "fraud_transaction = df[df.Class==1]"
   ]
  },
  {
   "cell_type": "markdown",
   "id": "7943f749",
   "metadata": {},
   "source": [
    "### Calculating the mean of imbalanced data"
   ]
  },
  {
   "cell_type": "code",
   "execution_count": 20,
   "id": "8d297fd1",
   "metadata": {},
   "outputs": [
    {
     "data": {
      "text/html": [
       "<div>\n",
       "<style scoped>\n",
       "    .dataframe tbody tr th:only-of-type {\n",
       "        vertical-align: middle;\n",
       "    }\n",
       "\n",
       "    .dataframe tbody tr th {\n",
       "        vertical-align: top;\n",
       "    }\n",
       "\n",
       "    .dataframe thead th {\n",
       "        text-align: right;\n",
       "    }\n",
       "</style>\n",
       "<table border=\"1\" class=\"dataframe\">\n",
       "  <thead>\n",
       "    <tr style=\"text-align: right;\">\n",
       "      <th></th>\n",
       "      <th>Time</th>\n",
       "      <th>V1</th>\n",
       "      <th>V2</th>\n",
       "      <th>V3</th>\n",
       "      <th>V4</th>\n",
       "      <th>V5</th>\n",
       "      <th>V6</th>\n",
       "      <th>V7</th>\n",
       "      <th>V8</th>\n",
       "      <th>V9</th>\n",
       "      <th>...</th>\n",
       "      <th>V20</th>\n",
       "      <th>V21</th>\n",
       "      <th>V22</th>\n",
       "      <th>V23</th>\n",
       "      <th>V24</th>\n",
       "      <th>V25</th>\n",
       "      <th>V26</th>\n",
       "      <th>V27</th>\n",
       "      <th>V28</th>\n",
       "      <th>Amount</th>\n",
       "    </tr>\n",
       "    <tr>\n",
       "      <th>Class</th>\n",
       "      <th></th>\n",
       "      <th></th>\n",
       "      <th></th>\n",
       "      <th></th>\n",
       "      <th></th>\n",
       "      <th></th>\n",
       "      <th></th>\n",
       "      <th></th>\n",
       "      <th></th>\n",
       "      <th></th>\n",
       "      <th></th>\n",
       "      <th></th>\n",
       "      <th></th>\n",
       "      <th></th>\n",
       "      <th></th>\n",
       "      <th></th>\n",
       "      <th></th>\n",
       "      <th></th>\n",
       "      <th></th>\n",
       "      <th></th>\n",
       "      <th></th>\n",
       "    </tr>\n",
       "  </thead>\n",
       "  <tbody>\n",
       "    <tr>\n",
       "      <th>0</th>\n",
       "      <td>94835.058093</td>\n",
       "      <td>0.013439</td>\n",
       "      <td>-0.009829</td>\n",
       "      <td>0.012853</td>\n",
       "      <td>-0.010440</td>\n",
       "      <td>0.006769</td>\n",
       "      <td>0.001251</td>\n",
       "      <td>0.010447</td>\n",
       "      <td>-0.002448</td>\n",
       "      <td>0.002613</td>\n",
       "      <td>...</td>\n",
       "      <td>-0.000489</td>\n",
       "      <td>-0.00115</td>\n",
       "      <td>-0.000160</td>\n",
       "      <td>0.000360</td>\n",
       "      <td>0.000393</td>\n",
       "      <td>-0.000301</td>\n",
       "      <td>0.000065</td>\n",
       "      <td>0.001409</td>\n",
       "      <td>0.000418</td>\n",
       "      <td>88.413575</td>\n",
       "    </tr>\n",
       "    <tr>\n",
       "      <th>1</th>\n",
       "      <td>80450.513742</td>\n",
       "      <td>-4.498280</td>\n",
       "      <td>3.405965</td>\n",
       "      <td>-6.729599</td>\n",
       "      <td>4.472591</td>\n",
       "      <td>-2.957197</td>\n",
       "      <td>-1.432518</td>\n",
       "      <td>-5.175912</td>\n",
       "      <td>0.953255</td>\n",
       "      <td>-2.522124</td>\n",
       "      <td>...</td>\n",
       "      <td>0.405043</td>\n",
       "      <td>0.46655</td>\n",
       "      <td>0.086639</td>\n",
       "      <td>-0.096464</td>\n",
       "      <td>-0.106643</td>\n",
       "      <td>0.040615</td>\n",
       "      <td>0.050456</td>\n",
       "      <td>0.213774</td>\n",
       "      <td>0.078270</td>\n",
       "      <td>123.871860</td>\n",
       "    </tr>\n",
       "  </tbody>\n",
       "</table>\n",
       "<p>2 rows × 30 columns</p>\n",
       "</div>"
      ],
      "text/plain": [
       "               Time        V1        V2        V3        V4        V5  \\\n",
       "Class                                                                   \n",
       "0      94835.058093  0.013439 -0.009829  0.012853 -0.010440  0.006769   \n",
       "1      80450.513742 -4.498280  3.405965 -6.729599  4.472591 -2.957197   \n",
       "\n",
       "             V6        V7        V8        V9  ...       V20      V21  \\\n",
       "Class                                          ...                      \n",
       "0      0.001251  0.010447 -0.002448  0.002613  ... -0.000489 -0.00115   \n",
       "1     -1.432518 -5.175912  0.953255 -2.522124  ...  0.405043  0.46655   \n",
       "\n",
       "            V22       V23       V24       V25       V26       V27       V28  \\\n",
       "Class                                                                         \n",
       "0     -0.000160  0.000360  0.000393 -0.000301  0.000065  0.001409  0.000418   \n",
       "1      0.086639 -0.096464 -0.106643  0.040615  0.050456  0.213774  0.078270   \n",
       "\n",
       "           Amount  \n",
       "Class              \n",
       "0       88.413575  \n",
       "1      123.871860  \n",
       "\n",
       "[2 rows x 30 columns]"
      ]
     },
     "execution_count": 20,
     "metadata": {},
     "output_type": "execute_result"
    }
   ],
   "source": [
    "df.groupby('Class').mean()"
   ]
  },
  {
   "cell_type": "markdown",
   "id": "558f101a",
   "metadata": {},
   "source": [
    "## Performing undersampling"
   ]
  },
  {
   "cell_type": "code",
   "execution_count": 21,
   "id": "b9a88057",
   "metadata": {},
   "outputs": [
    {
     "data": {
      "text/plain": [
       "(473, 31)"
      ]
     },
     "execution_count": 21,
     "metadata": {},
     "output_type": "execute_result"
    }
   ],
   "source": [
    "legit_transaction_sample = legit_transaction.sample(n=473)\n",
    "legit_transaction_sample.shape"
   ]
  },
  {
   "cell_type": "code",
   "execution_count": 22,
   "id": "fd0cc4f4",
   "metadata": {},
   "outputs": [
    {
     "data": {
      "text/plain": [
       "(473, 31)"
      ]
     },
     "execution_count": 22,
     "metadata": {},
     "output_type": "execute_result"
    }
   ],
   "source": [
    "fraud_transaction.shape"
   ]
  },
  {
   "cell_type": "code",
   "execution_count": 23,
   "id": "cb7218f5",
   "metadata": {},
   "outputs": [
    {
     "data": {
      "text/html": [
       "<div>\n",
       "<style scoped>\n",
       "    .dataframe tbody tr th:only-of-type {\n",
       "        vertical-align: middle;\n",
       "    }\n",
       "\n",
       "    .dataframe tbody tr th {\n",
       "        vertical-align: top;\n",
       "    }\n",
       "\n",
       "    .dataframe thead th {\n",
       "        text-align: right;\n",
       "    }\n",
       "</style>\n",
       "<table border=\"1\" class=\"dataframe\">\n",
       "  <thead>\n",
       "    <tr style=\"text-align: right;\">\n",
       "      <th></th>\n",
       "      <th>Time</th>\n",
       "      <th>V1</th>\n",
       "      <th>V2</th>\n",
       "      <th>V3</th>\n",
       "      <th>V4</th>\n",
       "      <th>V5</th>\n",
       "      <th>V6</th>\n",
       "      <th>V7</th>\n",
       "      <th>V8</th>\n",
       "      <th>V9</th>\n",
       "      <th>...</th>\n",
       "      <th>V21</th>\n",
       "      <th>V22</th>\n",
       "      <th>V23</th>\n",
       "      <th>V24</th>\n",
       "      <th>V25</th>\n",
       "      <th>V26</th>\n",
       "      <th>V27</th>\n",
       "      <th>V28</th>\n",
       "      <th>Amount</th>\n",
       "      <th>Class</th>\n",
       "    </tr>\n",
       "  </thead>\n",
       "  <tbody>\n",
       "    <tr>\n",
       "      <th>246931</th>\n",
       "      <td>153394.0</td>\n",
       "      <td>2.053814</td>\n",
       "      <td>-1.323251</td>\n",
       "      <td>-2.058206</td>\n",
       "      <td>-2.559677</td>\n",
       "      <td>-0.867993</td>\n",
       "      <td>-2.019607</td>\n",
       "      <td>0.108376</td>\n",
       "      <td>-0.572941</td>\n",
       "      <td>0.920651</td>\n",
       "      <td>...</td>\n",
       "      <td>-0.186190</td>\n",
       "      <td>-0.070362</td>\n",
       "      <td>-0.033202</td>\n",
       "      <td>0.025518</td>\n",
       "      <td>0.287002</td>\n",
       "      <td>-0.710318</td>\n",
       "      <td>0.009223</td>\n",
       "      <td>-0.040883</td>\n",
       "      <td>115.98</td>\n",
       "      <td>0</td>\n",
       "    </tr>\n",
       "    <tr>\n",
       "      <th>145300</th>\n",
       "      <td>86816.0</td>\n",
       "      <td>-1.754786</td>\n",
       "      <td>-2.226016</td>\n",
       "      <td>0.913746</td>\n",
       "      <td>1.667090</td>\n",
       "      <td>2.319108</td>\n",
       "      <td>-0.840953</td>\n",
       "      <td>-1.281843</td>\n",
       "      <td>0.205377</td>\n",
       "      <td>-1.708174</td>\n",
       "      <td>...</td>\n",
       "      <td>-0.498802</td>\n",
       "      <td>-1.833823</td>\n",
       "      <td>0.831377</td>\n",
       "      <td>-0.052256</td>\n",
       "      <td>-0.489091</td>\n",
       "      <td>-0.720456</td>\n",
       "      <td>0.119976</td>\n",
       "      <td>0.234729</td>\n",
       "      <td>103.00</td>\n",
       "      <td>0</td>\n",
       "    </tr>\n",
       "    <tr>\n",
       "      <th>31243</th>\n",
       "      <td>36279.0</td>\n",
       "      <td>-0.983751</td>\n",
       "      <td>0.648636</td>\n",
       "      <td>1.588299</td>\n",
       "      <td>-0.194134</td>\n",
       "      <td>0.716205</td>\n",
       "      <td>-0.056853</td>\n",
       "      <td>0.697691</td>\n",
       "      <td>0.281168</td>\n",
       "      <td>-0.656690</td>\n",
       "      <td>...</td>\n",
       "      <td>0.144012</td>\n",
       "      <td>0.169677</td>\n",
       "      <td>-0.330624</td>\n",
       "      <td>-0.359589</td>\n",
       "      <td>0.595897</td>\n",
       "      <td>-0.378407</td>\n",
       "      <td>0.015178</td>\n",
       "      <td>0.046171</td>\n",
       "      <td>25.50</td>\n",
       "      <td>0</td>\n",
       "    </tr>\n",
       "    <tr>\n",
       "      <th>5656</th>\n",
       "      <td>5901.0</td>\n",
       "      <td>1.132064</td>\n",
       "      <td>-0.386579</td>\n",
       "      <td>1.152047</td>\n",
       "      <td>0.200751</td>\n",
       "      <td>-0.961795</td>\n",
       "      <td>0.114594</td>\n",
       "      <td>-0.842514</td>\n",
       "      <td>0.118153</td>\n",
       "      <td>2.125933</td>\n",
       "      <td>...</td>\n",
       "      <td>-0.216627</td>\n",
       "      <td>-0.295576</td>\n",
       "      <td>-0.013288</td>\n",
       "      <td>0.028932</td>\n",
       "      <td>0.092724</td>\n",
       "      <td>0.950486</td>\n",
       "      <td>-0.071399</td>\n",
       "      <td>0.002818</td>\n",
       "      <td>44.22</td>\n",
       "      <td>0</td>\n",
       "    </tr>\n",
       "    <tr>\n",
       "      <th>256163</th>\n",
       "      <td>157564.0</td>\n",
       "      <td>-1.522650</td>\n",
       "      <td>1.405254</td>\n",
       "      <td>1.147360</td>\n",
       "      <td>-0.447349</td>\n",
       "      <td>-0.285390</td>\n",
       "      <td>-0.144794</td>\n",
       "      <td>0.156589</td>\n",
       "      <td>0.256353</td>\n",
       "      <td>0.297593</td>\n",
       "      <td>...</td>\n",
       "      <td>-0.023770</td>\n",
       "      <td>-0.092355</td>\n",
       "      <td>0.041537</td>\n",
       "      <td>1.084859</td>\n",
       "      <td>-0.386140</td>\n",
       "      <td>-0.703929</td>\n",
       "      <td>-1.083772</td>\n",
       "      <td>-0.414726</td>\n",
       "      <td>9.99</td>\n",
       "      <td>0</td>\n",
       "    </tr>\n",
       "  </tbody>\n",
       "</table>\n",
       "<p>5 rows × 31 columns</p>\n",
       "</div>"
      ],
      "text/plain": [
       "            Time        V1        V2        V3        V4        V5        V6  \\\n",
       "246931  153394.0  2.053814 -1.323251 -2.058206 -2.559677 -0.867993 -2.019607   \n",
       "145300   86816.0 -1.754786 -2.226016  0.913746  1.667090  2.319108 -0.840953   \n",
       "31243    36279.0 -0.983751  0.648636  1.588299 -0.194134  0.716205 -0.056853   \n",
       "5656      5901.0  1.132064 -0.386579  1.152047  0.200751 -0.961795  0.114594   \n",
       "256163  157564.0 -1.522650  1.405254  1.147360 -0.447349 -0.285390 -0.144794   \n",
       "\n",
       "              V7        V8        V9  ...       V21       V22       V23  \\\n",
       "246931  0.108376 -0.572941  0.920651  ... -0.186190 -0.070362 -0.033202   \n",
       "145300 -1.281843  0.205377 -1.708174  ... -0.498802 -1.833823  0.831377   \n",
       "31243   0.697691  0.281168 -0.656690  ...  0.144012  0.169677 -0.330624   \n",
       "5656   -0.842514  0.118153  2.125933  ... -0.216627 -0.295576 -0.013288   \n",
       "256163  0.156589  0.256353  0.297593  ... -0.023770 -0.092355  0.041537   \n",
       "\n",
       "             V24       V25       V26       V27       V28  Amount  Class  \n",
       "246931  0.025518  0.287002 -0.710318  0.009223 -0.040883  115.98      0  \n",
       "145300 -0.052256 -0.489091 -0.720456  0.119976  0.234729  103.00      0  \n",
       "31243  -0.359589  0.595897 -0.378407  0.015178  0.046171   25.50      0  \n",
       "5656    0.028932  0.092724  0.950486 -0.071399  0.002818   44.22      0  \n",
       "256163  1.084859 -0.386140 -0.703929 -1.083772 -0.414726    9.99      0  \n",
       "\n",
       "[5 rows x 31 columns]"
      ]
     },
     "execution_count": 23,
     "metadata": {},
     "output_type": "execute_result"
    }
   ],
   "source": [
    "df = pd.concat([legit_transaction_sample,fraud_transaction],axis=0)    # concat \n",
    "df.head()"
   ]
  },
  {
   "cell_type": "code",
   "execution_count": 24,
   "id": "7bcca97a",
   "metadata": {},
   "outputs": [
    {
     "data": {
      "text/plain": [
       "0    473\n",
       "1    473\n",
       "Name: Class, dtype: int64"
      ]
     },
     "execution_count": 24,
     "metadata": {},
     "output_type": "execute_result"
    }
   ],
   "source": [
    "df.Class.value_counts()     # value count after undersampling"
   ]
  },
  {
   "cell_type": "markdown",
   "id": "dc5e8034",
   "metadata": {},
   "source": [
    "### Checking mean for both the transaction after undersampling process"
   ]
  },
  {
   "cell_type": "code",
   "execution_count": 25,
   "id": "b71071bf",
   "metadata": {},
   "outputs": [
    {
     "data": {
      "text/html": [
       "<div>\n",
       "<style scoped>\n",
       "    .dataframe tbody tr th:only-of-type {\n",
       "        vertical-align: middle;\n",
       "    }\n",
       "\n",
       "    .dataframe tbody tr th {\n",
       "        vertical-align: top;\n",
       "    }\n",
       "\n",
       "    .dataframe thead th {\n",
       "        text-align: right;\n",
       "    }\n",
       "</style>\n",
       "<table border=\"1\" class=\"dataframe\">\n",
       "  <thead>\n",
       "    <tr style=\"text-align: right;\">\n",
       "      <th></th>\n",
       "      <th>Time</th>\n",
       "      <th>V1</th>\n",
       "      <th>V2</th>\n",
       "      <th>V3</th>\n",
       "      <th>V4</th>\n",
       "      <th>V5</th>\n",
       "      <th>V6</th>\n",
       "      <th>V7</th>\n",
       "      <th>V8</th>\n",
       "      <th>V9</th>\n",
       "      <th>...</th>\n",
       "      <th>V20</th>\n",
       "      <th>V21</th>\n",
       "      <th>V22</th>\n",
       "      <th>V23</th>\n",
       "      <th>V24</th>\n",
       "      <th>V25</th>\n",
       "      <th>V26</th>\n",
       "      <th>V27</th>\n",
       "      <th>V28</th>\n",
       "      <th>Amount</th>\n",
       "    </tr>\n",
       "    <tr>\n",
       "      <th>Class</th>\n",
       "      <th></th>\n",
       "      <th></th>\n",
       "      <th></th>\n",
       "      <th></th>\n",
       "      <th></th>\n",
       "      <th></th>\n",
       "      <th></th>\n",
       "      <th></th>\n",
       "      <th></th>\n",
       "      <th></th>\n",
       "      <th></th>\n",
       "      <th></th>\n",
       "      <th></th>\n",
       "      <th></th>\n",
       "      <th></th>\n",
       "      <th></th>\n",
       "      <th></th>\n",
       "      <th></th>\n",
       "      <th></th>\n",
       "      <th></th>\n",
       "      <th></th>\n",
       "    </tr>\n",
       "  </thead>\n",
       "  <tbody>\n",
       "    <tr>\n",
       "      <th>0</th>\n",
       "      <td>94833.287526</td>\n",
       "      <td>0.038149</td>\n",
       "      <td>0.013788</td>\n",
       "      <td>0.062673</td>\n",
       "      <td>-0.000542</td>\n",
       "      <td>-0.045444</td>\n",
       "      <td>-0.072698</td>\n",
       "      <td>0.068234</td>\n",
       "      <td>0.042134</td>\n",
       "      <td>-0.015735</td>\n",
       "      <td>...</td>\n",
       "      <td>-0.017237</td>\n",
       "      <td>-0.014409</td>\n",
       "      <td>-0.025307</td>\n",
       "      <td>-0.000072</td>\n",
       "      <td>0.077186</td>\n",
       "      <td>0.017360</td>\n",
       "      <td>-0.014747</td>\n",
       "      <td>0.009263</td>\n",
       "      <td>-0.006923</td>\n",
       "      <td>90.623277</td>\n",
       "    </tr>\n",
       "    <tr>\n",
       "      <th>1</th>\n",
       "      <td>80450.513742</td>\n",
       "      <td>-4.498280</td>\n",
       "      <td>3.405965</td>\n",
       "      <td>-6.729599</td>\n",
       "      <td>4.472591</td>\n",
       "      <td>-2.957197</td>\n",
       "      <td>-1.432518</td>\n",
       "      <td>-5.175912</td>\n",
       "      <td>0.953255</td>\n",
       "      <td>-2.522124</td>\n",
       "      <td>...</td>\n",
       "      <td>0.405043</td>\n",
       "      <td>0.466550</td>\n",
       "      <td>0.086639</td>\n",
       "      <td>-0.096464</td>\n",
       "      <td>-0.106643</td>\n",
       "      <td>0.040615</td>\n",
       "      <td>0.050456</td>\n",
       "      <td>0.213774</td>\n",
       "      <td>0.078270</td>\n",
       "      <td>123.871860</td>\n",
       "    </tr>\n",
       "  </tbody>\n",
       "</table>\n",
       "<p>2 rows × 30 columns</p>\n",
       "</div>"
      ],
      "text/plain": [
       "               Time        V1        V2        V3        V4        V5  \\\n",
       "Class                                                                   \n",
       "0      94833.287526  0.038149  0.013788  0.062673 -0.000542 -0.045444   \n",
       "1      80450.513742 -4.498280  3.405965 -6.729599  4.472591 -2.957197   \n",
       "\n",
       "             V6        V7        V8        V9  ...       V20       V21  \\\n",
       "Class                                          ...                       \n",
       "0     -0.072698  0.068234  0.042134 -0.015735  ... -0.017237 -0.014409   \n",
       "1     -1.432518 -5.175912  0.953255 -2.522124  ...  0.405043  0.466550   \n",
       "\n",
       "            V22       V23       V24       V25       V26       V27       V28  \\\n",
       "Class                                                                         \n",
       "0     -0.025307 -0.000072  0.077186  0.017360 -0.014747  0.009263 -0.006923   \n",
       "1      0.086639 -0.096464 -0.106643  0.040615  0.050456  0.213774  0.078270   \n",
       "\n",
       "           Amount  \n",
       "Class              \n",
       "0       90.623277  \n",
       "1      123.871860  \n",
       "\n",
       "[2 rows x 30 columns]"
      ]
     },
     "execution_count": 25,
     "metadata": {},
     "output_type": "execute_result"
    }
   ],
   "source": [
    "df.groupby('Class').mean()"
   ]
  },
  {
   "cell_type": "code",
   "execution_count": 26,
   "id": "4d4b0060",
   "metadata": {},
   "outputs": [
    {
     "data": {
      "text/html": [
       "<div>\n",
       "<style scoped>\n",
       "    .dataframe tbody tr th:only-of-type {\n",
       "        vertical-align: middle;\n",
       "    }\n",
       "\n",
       "    .dataframe tbody tr th {\n",
       "        vertical-align: top;\n",
       "    }\n",
       "\n",
       "    .dataframe thead th {\n",
       "        text-align: right;\n",
       "    }\n",
       "</style>\n",
       "<table border=\"1\" class=\"dataframe\">\n",
       "  <thead>\n",
       "    <tr style=\"text-align: right;\">\n",
       "      <th></th>\n",
       "      <th>Time</th>\n",
       "      <th>V1</th>\n",
       "      <th>V2</th>\n",
       "      <th>V3</th>\n",
       "      <th>V4</th>\n",
       "      <th>V5</th>\n",
       "      <th>V6</th>\n",
       "      <th>V7</th>\n",
       "      <th>V8</th>\n",
       "      <th>V9</th>\n",
       "      <th>...</th>\n",
       "      <th>V21</th>\n",
       "      <th>V22</th>\n",
       "      <th>V23</th>\n",
       "      <th>V24</th>\n",
       "      <th>V25</th>\n",
       "      <th>V26</th>\n",
       "      <th>V27</th>\n",
       "      <th>V28</th>\n",
       "      <th>Amount</th>\n",
       "      <th>Class</th>\n",
       "    </tr>\n",
       "  </thead>\n",
       "  <tbody>\n",
       "    <tr>\n",
       "      <th>246931</th>\n",
       "      <td>153394.0</td>\n",
       "      <td>2.053814</td>\n",
       "      <td>-1.323251</td>\n",
       "      <td>-2.058206</td>\n",
       "      <td>-2.559677</td>\n",
       "      <td>-0.867993</td>\n",
       "      <td>-2.019607</td>\n",
       "      <td>0.108376</td>\n",
       "      <td>-0.572941</td>\n",
       "      <td>0.920651</td>\n",
       "      <td>...</td>\n",
       "      <td>-0.186190</td>\n",
       "      <td>-0.070362</td>\n",
       "      <td>-0.033202</td>\n",
       "      <td>0.025518</td>\n",
       "      <td>0.287002</td>\n",
       "      <td>-0.710318</td>\n",
       "      <td>0.009223</td>\n",
       "      <td>-0.040883</td>\n",
       "      <td>115.98</td>\n",
       "      <td>0</td>\n",
       "    </tr>\n",
       "    <tr>\n",
       "      <th>145300</th>\n",
       "      <td>86816.0</td>\n",
       "      <td>-1.754786</td>\n",
       "      <td>-2.226016</td>\n",
       "      <td>0.913746</td>\n",
       "      <td>1.667090</td>\n",
       "      <td>2.319108</td>\n",
       "      <td>-0.840953</td>\n",
       "      <td>-1.281843</td>\n",
       "      <td>0.205377</td>\n",
       "      <td>-1.708174</td>\n",
       "      <td>...</td>\n",
       "      <td>-0.498802</td>\n",
       "      <td>-1.833823</td>\n",
       "      <td>0.831377</td>\n",
       "      <td>-0.052256</td>\n",
       "      <td>-0.489091</td>\n",
       "      <td>-0.720456</td>\n",
       "      <td>0.119976</td>\n",
       "      <td>0.234729</td>\n",
       "      <td>103.00</td>\n",
       "      <td>0</td>\n",
       "    </tr>\n",
       "    <tr>\n",
       "      <th>31243</th>\n",
       "      <td>36279.0</td>\n",
       "      <td>-0.983751</td>\n",
       "      <td>0.648636</td>\n",
       "      <td>1.588299</td>\n",
       "      <td>-0.194134</td>\n",
       "      <td>0.716205</td>\n",
       "      <td>-0.056853</td>\n",
       "      <td>0.697691</td>\n",
       "      <td>0.281168</td>\n",
       "      <td>-0.656690</td>\n",
       "      <td>...</td>\n",
       "      <td>0.144012</td>\n",
       "      <td>0.169677</td>\n",
       "      <td>-0.330624</td>\n",
       "      <td>-0.359589</td>\n",
       "      <td>0.595897</td>\n",
       "      <td>-0.378407</td>\n",
       "      <td>0.015178</td>\n",
       "      <td>0.046171</td>\n",
       "      <td>25.50</td>\n",
       "      <td>0</td>\n",
       "    </tr>\n",
       "    <tr>\n",
       "      <th>5656</th>\n",
       "      <td>5901.0</td>\n",
       "      <td>1.132064</td>\n",
       "      <td>-0.386579</td>\n",
       "      <td>1.152047</td>\n",
       "      <td>0.200751</td>\n",
       "      <td>-0.961795</td>\n",
       "      <td>0.114594</td>\n",
       "      <td>-0.842514</td>\n",
       "      <td>0.118153</td>\n",
       "      <td>2.125933</td>\n",
       "      <td>...</td>\n",
       "      <td>-0.216627</td>\n",
       "      <td>-0.295576</td>\n",
       "      <td>-0.013288</td>\n",
       "      <td>0.028932</td>\n",
       "      <td>0.092724</td>\n",
       "      <td>0.950486</td>\n",
       "      <td>-0.071399</td>\n",
       "      <td>0.002818</td>\n",
       "      <td>44.22</td>\n",
       "      <td>0</td>\n",
       "    </tr>\n",
       "    <tr>\n",
       "      <th>256163</th>\n",
       "      <td>157564.0</td>\n",
       "      <td>-1.522650</td>\n",
       "      <td>1.405254</td>\n",
       "      <td>1.147360</td>\n",
       "      <td>-0.447349</td>\n",
       "      <td>-0.285390</td>\n",
       "      <td>-0.144794</td>\n",
       "      <td>0.156589</td>\n",
       "      <td>0.256353</td>\n",
       "      <td>0.297593</td>\n",
       "      <td>...</td>\n",
       "      <td>-0.023770</td>\n",
       "      <td>-0.092355</td>\n",
       "      <td>0.041537</td>\n",
       "      <td>1.084859</td>\n",
       "      <td>-0.386140</td>\n",
       "      <td>-0.703929</td>\n",
       "      <td>-1.083772</td>\n",
       "      <td>-0.414726</td>\n",
       "      <td>9.99</td>\n",
       "      <td>0</td>\n",
       "    </tr>\n",
       "  </tbody>\n",
       "</table>\n",
       "<p>5 rows × 31 columns</p>\n",
       "</div>"
      ],
      "text/plain": [
       "            Time        V1        V2        V3        V4        V5        V6  \\\n",
       "246931  153394.0  2.053814 -1.323251 -2.058206 -2.559677 -0.867993 -2.019607   \n",
       "145300   86816.0 -1.754786 -2.226016  0.913746  1.667090  2.319108 -0.840953   \n",
       "31243    36279.0 -0.983751  0.648636  1.588299 -0.194134  0.716205 -0.056853   \n",
       "5656      5901.0  1.132064 -0.386579  1.152047  0.200751 -0.961795  0.114594   \n",
       "256163  157564.0 -1.522650  1.405254  1.147360 -0.447349 -0.285390 -0.144794   \n",
       "\n",
       "              V7        V8        V9  ...       V21       V22       V23  \\\n",
       "246931  0.108376 -0.572941  0.920651  ... -0.186190 -0.070362 -0.033202   \n",
       "145300 -1.281843  0.205377 -1.708174  ... -0.498802 -1.833823  0.831377   \n",
       "31243   0.697691  0.281168 -0.656690  ...  0.144012  0.169677 -0.330624   \n",
       "5656   -0.842514  0.118153  2.125933  ... -0.216627 -0.295576 -0.013288   \n",
       "256163  0.156589  0.256353  0.297593  ... -0.023770 -0.092355  0.041537   \n",
       "\n",
       "             V24       V25       V26       V27       V28  Amount  Class  \n",
       "246931  0.025518  0.287002 -0.710318  0.009223 -0.040883  115.98      0  \n",
       "145300 -0.052256 -0.489091 -0.720456  0.119976  0.234729  103.00      0  \n",
       "31243  -0.359589  0.595897 -0.378407  0.015178  0.046171   25.50      0  \n",
       "5656    0.028932  0.092724  0.950486 -0.071399  0.002818   44.22      0  \n",
       "256163  1.084859 -0.386140 -0.703929 -1.083772 -0.414726    9.99      0  \n",
       "\n",
       "[5 rows x 31 columns]"
      ]
     },
     "execution_count": 26,
     "metadata": {},
     "output_type": "execute_result"
    }
   ],
   "source": [
    "df.head()"
   ]
  },
  {
   "cell_type": "markdown",
   "id": "f05d15b8",
   "metadata": {},
   "source": [
    "### Spliting Data into X and Y"
   ]
  },
  {
   "cell_type": "code",
   "execution_count": 27,
   "id": "36f2a358",
   "metadata": {},
   "outputs": [],
   "source": [
    "x = df.drop('Class',axis=1)\n",
    "y = df['Class']"
   ]
  },
  {
   "cell_type": "code",
   "execution_count": 28,
   "id": "d3d50edd",
   "metadata": {},
   "outputs": [
    {
     "data": {
      "text/plain": [
       "(946, 30)"
      ]
     },
     "execution_count": 28,
     "metadata": {},
     "output_type": "execute_result"
    }
   ],
   "source": [
    "x.shape"
   ]
  },
  {
   "cell_type": "code",
   "execution_count": 29,
   "id": "fa1ffd71",
   "metadata": {},
   "outputs": [
    {
     "data": {
      "text/plain": [
       "(946,)"
      ]
     },
     "execution_count": 29,
     "metadata": {},
     "output_type": "execute_result"
    }
   ],
   "source": [
    "y.shape"
   ]
  },
  {
   "cell_type": "markdown",
   "id": "0b06c5ee",
   "metadata": {},
   "source": [
    "## Spliting data into Test and Train data"
   ]
  },
  {
   "cell_type": "code",
   "execution_count": 30,
   "id": "c16ad6f3",
   "metadata": {},
   "outputs": [],
   "source": [
    "from sklearn.model_selection import train_test_split"
   ]
  },
  {
   "cell_type": "code",
   "execution_count": 31,
   "id": "a501b980",
   "metadata": {},
   "outputs": [
    {
     "name": "stdout",
     "output_type": "stream",
     "text": [
      "(662, 30)\n",
      "(284, 30)\n",
      "(662,)\n",
      "(284,)\n"
     ]
    }
   ],
   "source": [
    "x_train,x_test,y_train,y_test = train_test_split(x,y,test_size=0.30,random_state=42)\n",
    "print(x_train.shape)\n",
    "print(x_test.shape)\n",
    "print(y_train.shape)\n",
    "print(y_test.shape)"
   ]
  },
  {
   "cell_type": "markdown",
   "id": "a0475f55",
   "metadata": {},
   "source": [
    "## Model Building"
   ]
  },
  {
   "cell_type": "code",
   "execution_count": 32,
   "id": "ad0ea677",
   "metadata": {},
   "outputs": [],
   "source": [
    "from sklearn.linear_model import LogisticRegression"
   ]
  },
  {
   "cell_type": "code",
   "execution_count": 33,
   "id": "6d459624",
   "metadata": {},
   "outputs": [],
   "source": [
    "from  sklearn.metrics import confusion_matrix,classification_report,roc_curve,roc_auc_score"
   ]
  },
  {
   "cell_type": "code",
   "execution_count": 34,
   "id": "de9c7211",
   "metadata": {},
   "outputs": [],
   "source": [
    "def gen_and_eval_model(model,x_train,x_test,y_train,y_test):\n",
    "    model.fit(x_train,y_train)\n",
    "    print('Train acc',model.score(x_train,y_train))\n",
    "    print('Test acc',model.score(x_test,y_test))\n",
    "    ypred = model.predict(x_test)\n",
    "    cm = confusion_matrix(y_test,ypred)\n",
    "    print('Confusion Matrix\\n',cm)\n",
    "    print('Classification Report\\n',classification_report(y_test,ypred))    "
   ]
  },
  {
   "cell_type": "code",
   "execution_count": 35,
   "id": "7e6a274b",
   "metadata": {},
   "outputs": [
    {
     "name": "stdout",
     "output_type": "stream",
     "text": [
      "Train acc 0.9229607250755287\n",
      "Test acc 0.9330985915492958\n",
      "Confusion Matrix\n",
      " [[133   7]\n",
      " [ 12 132]]\n",
      "Classification Report\n",
      "               precision    recall  f1-score   support\n",
      "\n",
      "           0       0.92      0.95      0.93       140\n",
      "           1       0.95      0.92      0.93       144\n",
      "\n",
      "    accuracy                           0.93       284\n",
      "   macro avg       0.93      0.93      0.93       284\n",
      "weighted avg       0.93      0.93      0.93       284\n",
      "\n"
     ]
    }
   ],
   "source": [
    "lr = LogisticRegression(max_iter=10000)\n",
    "gen_and_eval_model(lr,x_train,x_test,y_train,y_test)"
   ]
  },
  {
   "cell_type": "markdown",
   "id": "c78a73ea",
   "metadata": {},
   "source": [
    "## Evaluating the model"
   ]
  },
  {
   "cell_type": "code",
   "execution_count": 36,
   "id": "d513a6a7",
   "metadata": {},
   "outputs": [
    {
     "data": {
      "text/html": [
       "<style>#sk-container-id-1 {color: black;background-color: white;}#sk-container-id-1 pre{padding: 0;}#sk-container-id-1 div.sk-toggleable {background-color: white;}#sk-container-id-1 label.sk-toggleable__label {cursor: pointer;display: block;width: 100%;margin-bottom: 0;padding: 0.3em;box-sizing: border-box;text-align: center;}#sk-container-id-1 label.sk-toggleable__label-arrow:before {content: \"▸\";float: left;margin-right: 0.25em;color: #696969;}#sk-container-id-1 label.sk-toggleable__label-arrow:hover:before {color: black;}#sk-container-id-1 div.sk-estimator:hover label.sk-toggleable__label-arrow:before {color: black;}#sk-container-id-1 div.sk-toggleable__content {max-height: 0;max-width: 0;overflow: hidden;text-align: left;background-color: #f0f8ff;}#sk-container-id-1 div.sk-toggleable__content pre {margin: 0.2em;color: black;border-radius: 0.25em;background-color: #f0f8ff;}#sk-container-id-1 input.sk-toggleable__control:checked~div.sk-toggleable__content {max-height: 200px;max-width: 100%;overflow: auto;}#sk-container-id-1 input.sk-toggleable__control:checked~label.sk-toggleable__label-arrow:before {content: \"▾\";}#sk-container-id-1 div.sk-estimator input.sk-toggleable__control:checked~label.sk-toggleable__label {background-color: #d4ebff;}#sk-container-id-1 div.sk-label input.sk-toggleable__control:checked~label.sk-toggleable__label {background-color: #d4ebff;}#sk-container-id-1 input.sk-hidden--visually {border: 0;clip: rect(1px 1px 1px 1px);clip: rect(1px, 1px, 1px, 1px);height: 1px;margin: -1px;overflow: hidden;padding: 0;position: absolute;width: 1px;}#sk-container-id-1 div.sk-estimator {font-family: monospace;background-color: #f0f8ff;border: 1px dotted black;border-radius: 0.25em;box-sizing: border-box;margin-bottom: 0.5em;}#sk-container-id-1 div.sk-estimator:hover {background-color: #d4ebff;}#sk-container-id-1 div.sk-parallel-item::after {content: \"\";width: 100%;border-bottom: 1px solid gray;flex-grow: 1;}#sk-container-id-1 div.sk-label:hover label.sk-toggleable__label {background-color: #d4ebff;}#sk-container-id-1 div.sk-serial::before {content: \"\";position: absolute;border-left: 1px solid gray;box-sizing: border-box;top: 0;bottom: 0;left: 50%;z-index: 0;}#sk-container-id-1 div.sk-serial {display: flex;flex-direction: column;align-items: center;background-color: white;padding-right: 0.2em;padding-left: 0.2em;position: relative;}#sk-container-id-1 div.sk-item {position: relative;z-index: 1;}#sk-container-id-1 div.sk-parallel {display: flex;align-items: stretch;justify-content: center;background-color: white;position: relative;}#sk-container-id-1 div.sk-item::before, #sk-container-id-1 div.sk-parallel-item::before {content: \"\";position: absolute;border-left: 1px solid gray;box-sizing: border-box;top: 0;bottom: 0;left: 50%;z-index: -1;}#sk-container-id-1 div.sk-parallel-item {display: flex;flex-direction: column;z-index: 1;position: relative;background-color: white;}#sk-container-id-1 div.sk-parallel-item:first-child::after {align-self: flex-end;width: 50%;}#sk-container-id-1 div.sk-parallel-item:last-child::after {align-self: flex-start;width: 50%;}#sk-container-id-1 div.sk-parallel-item:only-child::after {width: 0;}#sk-container-id-1 div.sk-dashed-wrapped {border: 1px dashed gray;margin: 0 0.4em 0.5em 0.4em;box-sizing: border-box;padding-bottom: 0.4em;background-color: white;}#sk-container-id-1 div.sk-label label {font-family: monospace;font-weight: bold;display: inline-block;line-height: 1.2em;}#sk-container-id-1 div.sk-label-container {text-align: center;}#sk-container-id-1 div.sk-container {/* jupyter's `normalize.less` sets `[hidden] { display: none; }` but bootstrap.min.css set `[hidden] { display: none !important; }` so we also need the `!important` here to be able to override the default hidden behavior on the sphinx rendered scikit-learn.org. See: https://github.com/scikit-learn/scikit-learn/issues/21755 */display: inline-block !important;position: relative;}#sk-container-id-1 div.sk-text-repr-fallback {display: none;}</style><div id=\"sk-container-id-1\" class=\"sk-top-container\"><div class=\"sk-text-repr-fallback\"><pre>LogisticRegression(max_iter=10000)</pre><b>In a Jupyter environment, please rerun this cell to show the HTML representation or trust the notebook. <br />On GitHub, the HTML representation is unable to render, please try loading this page with nbviewer.org.</b></div><div class=\"sk-container\" hidden><div class=\"sk-item\"><div class=\"sk-estimator sk-toggleable\"><input class=\"sk-toggleable__control sk-hidden--visually\" id=\"sk-estimator-id-1\" type=\"checkbox\" checked><label for=\"sk-estimator-id-1\" class=\"sk-toggleable__label sk-toggleable__label-arrow\">LogisticRegression</label><div class=\"sk-toggleable__content\"><pre>LogisticRegression(max_iter=10000)</pre></div></div></div></div></div>"
      ],
      "text/plain": [
       "LogisticRegression(max_iter=10000)"
      ]
     },
     "execution_count": 36,
     "metadata": {},
     "output_type": "execute_result"
    }
   ],
   "source": [
    "lr1 = LogisticRegression(max_iter=10000)\n",
    "lr1.fit(x_train,y_train)"
   ]
  },
  {
   "cell_type": "code",
   "execution_count": 37,
   "id": "0b001893",
   "metadata": {},
   "outputs": [
    {
     "name": "stdout",
     "output_type": "stream",
     "text": [
      "Train Scr 0.9229607250755287\n",
      "Test Scr 0.9330985915492958\n"
     ]
    }
   ],
   "source": [
    "print('Train Scr',lr1.score(x_train,y_train))\n",
    "print('Test Scr',lr1.score(x_test,y_test))"
   ]
  },
  {
   "cell_type": "code",
   "execution_count": 38,
   "id": "d5364b54",
   "metadata": {},
   "outputs": [
    {
     "name": "stdout",
     "output_type": "stream",
     "text": [
      "[0 0 1 0 0 1 1 0 0 1 0 0 0 0 1 0 1 1 1 1 1 1 1 1 0 0 1 1 0 0 1 1 1 0 0 1 0\n",
      " 0 0 0 1 0 1 1 1 0 0 1 0 1 0 1 0 1 0 0 0 1 1 0 1 1 0 1 1 0 0 0 0 0 0 0 1 1\n",
      " 0 0 0 1 1 0 1 1 0 0 1 1 1 0 0 0 1 1 0 1 1 1 1 1 1 1 1 1 1 0 0 1 1 0 0 1 0\n",
      " 0 1 0 1 1 1 0 0 1 0 0 1 1 1 0 0 0 1 1 1 0 1 0 0 0 1 0 0 1 1 0 0 1 0 0 0 1\n",
      " 1 1 0 1 1 0 0 1 0 0 1 1 0 0 0 0 1 1 0 0 0 1 1 1 0 1 0 1 1 1 0 1 0 1 0 0 1\n",
      " 1 1 1 0 0 0 0 0 0 1 0 1 1 0 0 1 0 0 0 0 0 1 0 1 1 1 0 1 1 1 1 1 0 0 0 0 1\n",
      " 1 0 1 0 0 1 1 0 0 1 0 1 1 0 0 1 0 0 1 0 1 0 0 0 0 0 1 1 0 0 0 1 1 0 1 0 1\n",
      " 1 0 0 0 0 1 0 0 0 0 0 1 1 0 1 1 1 1 1 1 1 1 0 0 1]\n"
     ]
    }
   ],
   "source": [
    "ypred_lr1 = lr1.predict(x_test)\n",
    "print(ypred_lr1)"
   ]
  },
  {
   "cell_type": "code",
   "execution_count": 39,
   "id": "834504ff",
   "metadata": {},
   "outputs": [],
   "source": [
    "from sklearn.metrics import accuracy_score,precision_score,recall_score"
   ]
  },
  {
   "cell_type": "code",
   "execution_count": 40,
   "id": "c61d461d",
   "metadata": {},
   "outputs": [
    {
     "data": {
      "text/html": [
       "<div>\n",
       "<style scoped>\n",
       "    .dataframe tbody tr th:only-of-type {\n",
       "        vertical-align: middle;\n",
       "    }\n",
       "\n",
       "    .dataframe tbody tr th {\n",
       "        vertical-align: top;\n",
       "    }\n",
       "\n",
       "    .dataframe thead th {\n",
       "        text-align: right;\n",
       "    }\n",
       "</style>\n",
       "<table border=\"1\" class=\"dataframe\">\n",
       "  <thead>\n",
       "    <tr style=\"text-align: right;\">\n",
       "      <th></th>\n",
       "      <th>Model</th>\n",
       "      <th>Acc</th>\n",
       "      <th>Precision</th>\n",
       "      <th>Recall</th>\n",
       "    </tr>\n",
       "  </thead>\n",
       "  <tbody>\n",
       "    <tr>\n",
       "      <th>0</th>\n",
       "      <td>LogReg_m1</td>\n",
       "      <td>0.933099</td>\n",
       "      <td>0.94964</td>\n",
       "      <td>0.916667</td>\n",
       "    </tr>\n",
       "  </tbody>\n",
       "</table>\n",
       "</div>"
      ],
      "text/plain": [
       "       Model       Acc  Precision    Recall\n",
       "0  LogReg_m1  0.933099    0.94964  0.916667"
      ]
     },
     "execution_count": 40,
     "metadata": {},
     "output_type": "execute_result"
    }
   ],
   "source": [
    "acc_lr1 = accuracy_score(y_test,ypred_lr1)\n",
    "pre_lr1 = precision_score(y_test,ypred_lr1)\n",
    "rec_lr1 = recall_score(y_test,ypred_lr1)\n",
    "\n",
    "lr1_res = pd.DataFrame({'Model':'LogReg_m1','Acc':acc_lr1,\n",
    "                   'Precision':pre_lr1,'Recall':rec_lr1},index=[0])\n",
    "lr1_res"
   ]
  },
  {
   "cell_type": "markdown",
   "id": "2b66348f",
   "metadata": {},
   "source": [
    "## ROC_AUC"
   ]
  },
  {
   "cell_type": "code",
   "execution_count": 41,
   "id": "29ac9061",
   "metadata": {},
   "outputs": [],
   "source": [
    "from sklearn.metrics import roc_curve,roc_auc_score"
   ]
  },
  {
   "cell_type": "code",
   "execution_count": 42,
   "id": "2198c116",
   "metadata": {},
   "outputs": [
    {
     "name": "stdout",
     "output_type": "stream",
     "text": [
      "[[9.14595792e-01 8.54042081e-02]\n",
      " [8.34294263e-01 1.65705737e-01]\n",
      " [4.34828248e-01 5.65171752e-01]\n",
      " [9.71995393e-01 2.80046072e-02]\n",
      " [7.12223647e-01 2.87776353e-01]\n",
      " [0.00000000e+00 1.00000000e+00]\n",
      " [6.11671158e-10 9.99999999e-01]\n",
      " [6.97692947e-01 3.02307053e-01]\n",
      " [8.43773701e-01 1.56226299e-01]\n",
      " [0.00000000e+00 1.00000000e+00]]\n"
     ]
    }
   ],
   "source": [
    "ypred_lr1_prob = lr1.predict_proba(x_test)\n",
    "print(ypred_lr1_prob[:10])"
   ]
  },
  {
   "cell_type": "code",
   "execution_count": 43,
   "id": "436c9b81",
   "metadata": {},
   "outputs": [
    {
     "name": "stdout",
     "output_type": "stream",
     "text": [
      "[0 0 1 0 0 1 1 0 0 1]\n"
     ]
    }
   ],
   "source": [
    "print(ypred_lr1[:10])"
   ]
  },
  {
   "cell_type": "code",
   "execution_count": 44,
   "id": "4a4894a3",
   "metadata": {},
   "outputs": [
    {
     "data": {
      "image/png": "[encoded data removed]",
      "text/plain": [
       "<Figure size 640x480 with 1 Axes>"
      ]
     },
     "metadata": {},
     "output_type": "display_data"
    }
   ],
   "source": [
    "fpr,tpr,thresh = roc_curve(y_test,ypred_lr1_prob[:,1])\n",
    "auc_score = roc_auc_score(y_test,ypred_lr1_prob[:,1])\n",
    "plt.plot(fpr,tpr,label='AUC: '+str(auc_score))\n",
    "plt.plot([0,1],[0,1],color='green',linestyle='dotted')\n",
    "plt.title('ROC-AUC Curve')\n",
    "plt.xlabel('FPR')\n",
    "plt.ylabel('TPR')\n",
    "plt.legend()\n",
    "plt.show()"
   ]
  },
  {
   "cell_type": "markdown",
   "id": "1d9cbe2b",
   "metadata": {},
   "source": [
    "### Best Threshold"
   ]
  },
  {
   "cell_type": "code",
   "execution_count": 45,
   "id": "2a69ced7",
   "metadata": {},
   "outputs": [
    {
     "name": "stdout",
     "output_type": "stream",
     "text": [
      "0.4688854163174137\n"
     ]
    }
   ],
   "source": [
    "best_thresh1 = thresh[np.argmax(tpr*(1-fpr))]\n",
    "print(best_thresh1)"
   ]
  },
  {
   "cell_type": "code",
   "execution_count": 46,
   "id": "8afb23bf",
   "metadata": {},
   "outputs": [
    {
     "name": "stdout",
     "output_type": "stream",
     "text": [
      "0.4688854163174137\n"
     ]
    }
   ],
   "source": [
    "best_thresh2 = thresh[np.argmax(abs(tpr-fpr))]\n",
    "print(best_thresh2)"
   ]
  },
  {
   "cell_type": "code",
   "execution_count": 47,
   "id": "4f54ede7",
   "metadata": {},
   "outputs": [
    {
     "name": "stdout",
     "output_type": "stream",
     "text": [
      "[0 0 1 0 0 1 1 0 0 1 0 0 0 0 1 0 1 1 1 1 1 1 1 1 0 0 1 1 0 0 1 1 1 0 0 1 0\n",
      " 0 0 0 1 0 1 1 1 0 0 1 0 1 0 1 0 1 0 0 0 1 1 0 1 1 0 1 1 0 0 0 0 0 0 0 1 1\n",
      " 0 0 0 1 1 0 1 1 0 0 1 1 1 0 0 0 1 1 0 1 1 1 1 1 1 1 1 1 1 0 0 1 1 0 0 1 0\n",
      " 0 1 0 1 1 1 0 0 1 0 0 1 1 1 0 0 0 1 1 1 0 1 0 0 0 1 1 0 1 1 0 0 1 0 0 0 1\n",
      " 1 1 0 1 1 0 0 1 0 0 1 1 0 0 0 0 1 1 0 0 0 1 1 1 0 1 0 1 1 1 0 1 0 1 0 0 1\n",
      " 1 1 1 0 0 0 0 0 0 1 0 1 1 0 0 1 0 0 0 0 0 1 0 1 1 1 0 1 1 1 1 1 0 0 0 0 1\n",
      " 1 0 1 0 0 1 1 0 0 1 0 1 1 0 0 1 0 0 1 0 1 0 0 0 0 0 1 1 0 0 0 1 1 0 1 0 1\n",
      " 1 0 0 0 0 1 0 0 0 0 0 1 1 0 1 1 1 1 1 1 1 1 0 0 1]\n"
     ]
    }
   ],
   "source": [
    "ypred_lr2 = np.where(ypred_lr1_prob[:,1]>best_thresh2,1,0)\n",
    "print(ypred_lr2)"
   ]
  },
  {
   "cell_type": "code",
   "execution_count": 48,
   "id": "269e8a8f",
   "metadata": {},
   "outputs": [
    {
     "data": {
      "text/html": [
       "<div>\n",
       "<style scoped>\n",
       "    .dataframe tbody tr th:only-of-type {\n",
       "        vertical-align: middle;\n",
       "    }\n",
       "\n",
       "    .dataframe tbody tr th {\n",
       "        vertical-align: top;\n",
       "    }\n",
       "\n",
       "    .dataframe thead th {\n",
       "        text-align: right;\n",
       "    }\n",
       "</style>\n",
       "<table border=\"1\" class=\"dataframe\">\n",
       "  <thead>\n",
       "    <tr style=\"text-align: right;\">\n",
       "      <th></th>\n",
       "      <th>Model</th>\n",
       "      <th>Acc</th>\n",
       "      <th>Precision</th>\n",
       "      <th>Recall</th>\n",
       "    </tr>\n",
       "  </thead>\n",
       "  <tbody>\n",
       "    <tr>\n",
       "      <th>1</th>\n",
       "      <td>LogReg_m2(Thresh=0.488)</td>\n",
       "      <td>0.93662</td>\n",
       "      <td>0.95</td>\n",
       "      <td>0.923611</td>\n",
       "    </tr>\n",
       "  </tbody>\n",
       "</table>\n",
       "</div>"
      ],
      "text/plain": [
       "                     Model      Acc  Precision    Recall\n",
       "1  LogReg_m2(Thresh=0.488)  0.93662       0.95  0.923611"
      ]
     },
     "execution_count": 48,
     "metadata": {},
     "output_type": "execute_result"
    }
   ],
   "source": [
    "acc_lr2 = accuracy_score(y_test,ypred_lr2)\n",
    "pre_lr2 = precision_score(y_test,ypred_lr2)\n",
    "rec_lr2 = recall_score(y_test,ypred_lr2)\n",
    "\n",
    "lr2_res = pd.DataFrame({'Model':'LogReg_m2(Thresh=0.488)','Acc':acc_lr2,\n",
    "                   'Precision':pre_lr2,'Recall':rec_lr2},index=[1])\n",
    "lr2_res"
   ]
  },
  {
   "cell_type": "code",
   "execution_count": 49,
   "id": "1d499c23",
   "metadata": {},
   "outputs": [
    {
     "data": {
      "text/html": [
       "<div>\n",
       "<style scoped>\n",
       "    .dataframe tbody tr th:only-of-type {\n",
       "        vertical-align: middle;\n",
       "    }\n",
       "\n",
       "    .dataframe tbody tr th {\n",
       "        vertical-align: top;\n",
       "    }\n",
       "\n",
       "    .dataframe thead th {\n",
       "        text-align: right;\n",
       "    }\n",
       "</style>\n",
       "<table border=\"1\" class=\"dataframe\">\n",
       "  <thead>\n",
       "    <tr style=\"text-align: right;\">\n",
       "      <th></th>\n",
       "      <th>Model</th>\n",
       "      <th>Acc</th>\n",
       "      <th>Precision</th>\n",
       "      <th>Recall</th>\n",
       "    </tr>\n",
       "  </thead>\n",
       "  <tbody>\n",
       "    <tr>\n",
       "      <th>0</th>\n",
       "      <td>LogReg_m1</td>\n",
       "      <td>0.933099</td>\n",
       "      <td>0.94964</td>\n",
       "      <td>0.916667</td>\n",
       "    </tr>\n",
       "    <tr>\n",
       "      <th>1</th>\n",
       "      <td>LogReg_m2(Thresh=0.488)</td>\n",
       "      <td>0.936620</td>\n",
       "      <td>0.95000</td>\n",
       "      <td>0.923611</td>\n",
       "    </tr>\n",
       "  </tbody>\n",
       "</table>\n",
       "</div>"
      ],
      "text/plain": [
       "                     Model       Acc  Precision    Recall\n",
       "0                LogReg_m1  0.933099    0.94964  0.916667\n",
       "1  LogReg_m2(Thresh=0.488)  0.936620    0.95000  0.923611"
      ]
     },
     "execution_count": 49,
     "metadata": {},
     "output_type": "execute_result"
    }
   ],
   "source": [
    "res = pd.concat([lr1_res,lr2_res])\n",
    "res"
   ]
  },
  {
   "cell_type": "markdown",
   "id": "f0ca2b83",
   "metadata": {},
   "source": [
    "#### According to the result logReg_m2 is better than LogReg_m1"
   ]
  },
  {
   "cell_type": "markdown",
   "id": "90cedacb",
   "metadata": {},
   "source": [
    "#### So this is how Python Programming language can be used to detect the fraud transactions taking place through credit card."
   ]
  },
  {
   "cell_type": "code",
   "execution_count": null,
   "id": "b496cc4c",
   "metadata": {},
   "outputs": [],
   "source": []
  }
 ],
 "metadata": {
  "kernelspec": {
   "display_name": "Python 3 (ipykernel)",
   "language": "python",
   "name": "python3"
  },
  "language_info": {
   "codemirror_mode": {
    "name": "ipython",
    "version": 3
   },
   "file_extension": ".py",
   "mimetype": "text/x-python",
   "name": "python",
   "nbconvert_exporter": "python",
   "pygments_lexer": "ipython3",
   "version": "3.10.9"
  }
 },
 "nbformat": 4,
 "nbformat_minor": 5
}
